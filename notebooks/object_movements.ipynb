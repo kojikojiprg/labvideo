{
 "cells": [
  {
   "cell_type": "markdown",
   "metadata": {},
   "source": [
    "# 動く物体の条件を解析的に発見する"
   ]
  },
  {
   "cell_type": "code",
   "execution_count": 1,
   "metadata": {},
   "outputs": [
    {
     "name": "stdout",
     "output_type": "stream",
     "text": [
      "/data3/yokoyama/labvideo\n"
     ]
    },
    {
     "name": "stderr",
     "output_type": "stream",
     "text": [
      "/data3/yokoyama/anaconda3/envs/labvideo/lib/python3.10/site-packages/IPython/core/magics/osm.py:417: UserWarning: This is now an optional IPython functionality, setting dhist requires you to install the `pickleshare` library.\n",
      "  self.shell.db['dhist'] = compress_dhist(dhist)[-100:]\n"
     ]
    }
   ],
   "source": [
    "\n",
    "%cd /data3/yokoyama/labvideo\n",
    "import os\n",
    "import sys\n",
    "import shutil\n",
    "from glob import glob\n",
    "\n",
    "import cv2\n",
    "import numpy as np\n",
    "import matplotlib.pyplot as plt\n",
    "from tqdm import tqdm\n",
    "import yaml\n",
    "\n",
    "sys.path.append(\".\")\n",
    "from src.utils import json_handler, video, yaml_handler"
   ]
  },
  {
   "cell_type": "code",
   "execution_count": 2,
   "metadata": {},
   "outputs": [],
   "source": [
    "video_name = \"Failures10\"\n",
    "yolo_preds = np.loadtxt(\n",
    "    f\"out/{video_name}/{video_name}_det_finetuned.tsv\", skiprows=1, dtype=float\n",
    ")"
   ]
  },
  {
   "cell_type": "code",
   "execution_count": 3,
   "metadata": {},
   "outputs": [
    {
     "data": {
      "text/plain": [
       "array([  0.      , 596.600586, 494.290527, 610.333008, 533.380005,\n",
       "         0.835266,   0.      ,   1.      ,   0.      ,   0.      ])"
      ]
     },
     "execution_count": 3,
     "metadata": {},
     "output_type": "execute_result"
    }
   ],
   "source": [
    "yolo_preds[0]"
   ]
  },
  {
   "cell_type": "code",
   "execution_count": 4,
   "metadata": {},
   "outputs": [],
   "source": [
    "yolo_preds_append_diff = np.hstack([yolo_preds, np.zeros((len(yolo_preds), 1))])"
   ]
  },
  {
   "cell_type": "code",
   "execution_count": 5,
   "metadata": {},
   "outputs": [],
   "source": [
    "pre_objects = {}\n",
    "bbox_diffs = []\n",
    "for i, pred in enumerate(yolo_preds_append_diff):\n",
    "    n_frame = int(pred[0])\n",
    "    bbox = pred[1:5].astype(np.float32)\n",
    "    label = int(pred[6])\n",
    "    tid = int(pred[7])\n",
    "\n",
    "    if tid not in pre_objects:\n",
    "        pre_objects[tid] = (n_frame, bbox, label)\n",
    "        continue\n",
    "\n",
    "    if n_frame - pre_objects[tid][0] > 1:\n",
    "        del pre_objects[tid]\n",
    "        continue\n",
    "    if label != pre_objects[tid][2]:\n",
    "        del pre_objects[tid]\n",
    "        continue\n",
    "\n",
    "    diff = bbox - pre_objects[tid][1]\n",
    "    cx, cy = diff.reshape(2, 2).mean(axis=0)\n",
    "    c_diff = np.sqrt(cx**2 + cy**2)\n",
    "    bbox_diffs.append(c_diff)\n",
    "    yolo_preds_append_diff[i, -1] = c_diff\n",
    "\n",
    "    pre_objects[tid] = (n_frame, bbox, label)\n",
    "\n",
    "bbox_diffs = np.array(bbox_diffs)"
   ]
  },
  {
   "cell_type": "code",
   "execution_count": 6,
   "metadata": {},
   "outputs": [
    {
     "data": {
      "image/png": "[encoded data removed]",
      "text/plain": [
       "<Figure size 800x400 with 1 Axes>"
      ]
     },
     "metadata": {},
     "output_type": "display_data"
    }
   ],
   "source": [
    "plt.figure(figsize=(8, 4))\n",
    "plt.hist(bbox_diffs, bins=1000)\n",
    "plt.show()"
   ]
  },
  {
   "cell_type": "code",
   "execution_count": 7,
   "metadata": {},
   "outputs": [
    {
     "data": {
      "image/png": "[encoded data removed]",
      "text/plain": [
       "<Figure size 800x400 with 1 Axes>"
      ]
     },
     "metadata": {},
     "output_type": "display_data"
    }
   ],
   "source": [
    "plt.figure(figsize=(8, 4))\n",
    "plt.hist(bbox_diffs, bins=1000, range=(0, 1))\n",
    "plt.show()"
   ]
  },
  {
   "cell_type": "markdown",
   "metadata": {},
   "source": [
    "# 大津法による閾値"
   ]
  },
  {
   "cell_type": "code",
   "execution_count": 8,
   "metadata": {},
   "outputs": [
    {
     "data": {
      "text/plain": [
       "4.2"
      ]
     },
     "execution_count": 8,
     "metadata": {},
     "output_type": "execute_result"
    }
   ],
   "source": [
    "# Define Otsu scoring function\n",
    "def otsu_score(data, thresh):\n",
    "    w_0 = np.sum(data <= thresh) / data.shape[0]\n",
    "    w_1 = np.sum(data > thresh) / data.shape[0]\n",
    "    # check ideal case\n",
    "    if (w_0 == 0) | (w_1 == 0):\n",
    "        return 0\n",
    "    mean_all = data.mean()\n",
    "    mean_0 = data[data <= thresh].mean()\n",
    "    mean_1 = data[data > thresh].mean()\n",
    "    sigma2_b = w_0 * ((mean_0 - mean_all) ** 2) + w_1 * ((mean_1 - mean_all) ** 2)\n",
    "\n",
    "    return sigma2_b\n",
    "\n",
    "\n",
    "# Callculation of Otsu score and analyze the optimal\n",
    "scores_otsu = np.zeros(int(np.max(bbox_diffs)) * 10)\n",
    "for i in range(scores_otsu.shape[0]):\n",
    "    scores_otsu[i] = otsu_score(bbox_diffs, i / 10)\n",
    "thresh_otsu = np.argmax(scores_otsu) / 10\n",
    "thresh_otsu"
   ]
  },
  {
   "cell_type": "code",
   "execution_count": null,
   "metadata": {},
   "outputs": [],
   "source": []
  }
 ],
 "metadata": {
  "kernelspec": {
   "display_name": "labvideo",
   "language": "python",
   "name": "python3"
  },
  "language_info": {
   "codemirror_mode": {
    "name": "ipython",
    "version": 3
   },
   "file_extension": ".py",
   "mimetype": "text/x-python",
   "name": "python",
   "nbconvert_exporter": "python",
   "pygments_lexer": "ipython3",
   "version": "3.10.14"
  }
 },
 "nbformat": 4,
 "nbformat_minor": 2
}
